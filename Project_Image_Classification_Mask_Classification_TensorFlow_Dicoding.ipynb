{
  "cells": [
    {
      "cell_type": "markdown",
      "metadata": {
        "id": "view-in-github",
        "colab_type": "text"
      },
      "source": [
        "<a href=\"https://colab.research.google.com/github/Maoelan/Project-Image-Classification-Deployment-TFLite_Dicoding/blob/main/Project_Image_Classification_Mask_Classification_TensorFlow_Dicoding.ipynb\" target=\"_parent\"><img src=\"https://colab.research.google.com/assets/colab-badge.svg\" alt=\"Open In Colab\"/></a>"
      ]
    },
    {
      "cell_type": "code",
      "execution_count": 22,
      "metadata": {
        "colab": {
          "base_uri": "https://localhost:8080/"
        },
        "id": "jjaNPpVrrhap",
        "outputId": "ee2a77a9-8df8-4c05-af13-1fe6b2b1cd92"
      },
      "outputs": [
        {
          "output_type": "stream",
          "name": "stdout",
          "text": [
            "Drive already mounted at /content/drive; to attempt to forcibly remount, call drive.mount(\"/content/drive\", force_remount=True).\n"
          ]
        }
      ],
      "source": [
        "from google.colab import drive\n",
        "drive.mount('/content/drive')"
      ]
    },
    {
      "cell_type": "code",
      "execution_count": 23,
      "metadata": {
        "id": "Jx5DlX3srm8Z"
      },
      "outputs": [],
      "source": [
        "import tensorflow as tf\n",
        "import matplotlib.pyplot as plt\n",
        "import zipfile,os\n",
        "from tensorflow.keras.preprocessing.image import ImageDataGenerator\n",
        "from tensorflow.keras.applications.vgg16 import VGG16\n",
        "from tensorflow.keras.layers import Input"
      ]
    },
    {
      "cell_type": "markdown",
      "source": [
        "Dataset : https://www.kaggle.com/datasets/vijaykumar1799/face-mask-detection"
      ],
      "metadata": {
        "id": "6QrhjkqRzxyM"
      }
    },
    {
      "cell_type": "code",
      "source": [
        "local_zip = '/content/drive/MyDrive/datasets/mask.zip'\n",
        "zip_ref = zipfile.ZipFile(local_zip, 'r')\n",
        "zip_ref.extractall('/content/drive/MyDrive/datasets')\n",
        "zip_ref.close()"
      ],
      "metadata": {
        "id": "ibVcnKe8uo3A"
      },
      "execution_count": 24,
      "outputs": []
    },
    {
      "cell_type": "code",
      "execution_count": 25,
      "metadata": {
        "colab": {
          "base_uri": "https://localhost:8080/"
        },
        "id": "bLvmUu9-rr4I",
        "outputId": "b2323173-ad9d-49c1-d2e5-4aa5107db0a9"
      },
      "outputs": [
        {
          "output_type": "execute_result",
          "data": {
            "text/plain": [
              "['mask_weared_incorrect', 'with_mask', 'without_mask']"
            ]
          },
          "metadata": {},
          "execution_count": 25
        }
      ],
      "source": [
        "os.listdir('/content/drive/MyDrive/datasets/Dataset')"
      ]
    },
    {
      "cell_type": "code",
      "execution_count": 26,
      "metadata": {
        "colab": {
          "base_uri": "https://localhost:8080/"
        },
        "id": "I1d0KBowrvnf",
        "outputId": "0c2c970a-aadf-4af6-ed6e-1eb0bb33ccd9"
      },
      "outputs": [
        {
          "output_type": "stream",
          "name": "stdout",
          "text": [
            "Found 7188 images belonging to 3 classes.\n",
            "Found 1794 images belonging to 3 classes.\n"
          ]
        }
      ],
      "source": [
        "train_dir = os.path.join('/content/drive/MyDrive/datasets/Dataset')\n",
        "\n",
        "train_datagen = ImageDataGenerator(rescale=1./255,\n",
        "                                   rotation_range = 20,\n",
        "                                   width_shift_range=0.2,\n",
        "                                   height_shift_range=0.2,\n",
        "                                   zoom_range = 0.2,\n",
        "                                   shear_range = 0.2,\n",
        "                                   horizontal_flip=True,\n",
        "                                   fill_mode = 'nearest',\n",
        "                                   validation_split = 0.2)\n",
        "\n",
        "validation_datagen = ImageDataGenerator(rescale=1./255,\n",
        "                                        validation_split = 0.2)\n",
        "\n",
        "train_generator = train_datagen.flow_from_directory(\n",
        "    train_dir,\n",
        "    target_size = (150,150),\n",
        "    batch_size = 256,\n",
        "    class_mode = 'categorical',\n",
        "    subset = 'training'\n",
        ")\n",
        "\n",
        "validation_generator = validation_datagen.flow_from_directory(\n",
        "    train_dir,\n",
        "    target_size = (150,150),\n",
        "    batch_size = 128,\n",
        "    class_mode = 'categorical',\n",
        "    subset = 'validation'\n",
        ")"
      ]
    },
    {
      "cell_type": "code",
      "execution_count": 27,
      "metadata": {
        "id": "PhvsMlIuryLM"
      },
      "outputs": [],
      "source": [
        "model = tf.keras.models.Sequential([\n",
        "    VGG16(weights=\"imagenet\", include_top=False, input_tensor=Input(shape=(150, 150, 3))),\n",
        "    tf.keras.layers.Conv2D(64, (3,3), activation='relu'),\n",
        "    tf.keras.layers.MaxPooling2D(2,2),\n",
        "    tf.keras.layers.Dropout(0.4),  \n",
        "    \n",
        "    tf.keras.layers.Flatten(),\n",
        "    \n",
        "    tf.keras.layers.Dense(512, activation='relu'),\n",
        "    tf.keras.layers.Dense(256, activation='relu'),\n",
        "    tf.keras.layers.Dense(3, activation='softmax')\n",
        "])"
      ]
    },
    {
      "cell_type": "code",
      "execution_count": 28,
      "metadata": {
        "colab": {
          "base_uri": "https://localhost:8080/"
        },
        "id": "Mc4WuaKBry-s",
        "outputId": "4fee9a8e-d13e-4b97-c9b7-d578a914397c"
      },
      "outputs": [
        {
          "output_type": "stream",
          "name": "stdout",
          "text": [
            "Model: \"sequential_2\"\n",
            "_________________________________________________________________\n",
            " Layer (type)                Output Shape              Param #   \n",
            "=================================================================\n",
            " vgg16 (Functional)          (None, 4, 4, 512)         14714688  \n",
            "                                                                 \n",
            " conv2d_2 (Conv2D)           (None, 2, 2, 64)          294976    \n",
            "                                                                 \n",
            " max_pooling2d_2 (MaxPooling  (None, 1, 1, 64)         0         \n",
            " 2D)                                                             \n",
            "                                                                 \n",
            " dropout_2 (Dropout)         (None, 1, 1, 64)          0         \n",
            "                                                                 \n",
            " flatten_2 (Flatten)         (None, 64)                0         \n",
            "                                                                 \n",
            " dense_6 (Dense)             (None, 512)               33280     \n",
            "                                                                 \n",
            " dense_7 (Dense)             (None, 256)               131328    \n",
            "                                                                 \n",
            " dense_8 (Dense)             (None, 3)                 771       \n",
            "                                                                 \n",
            "=================================================================\n",
            "Total params: 15,175,043\n",
            "Trainable params: 15,175,043\n",
            "Non-trainable params: 0\n",
            "_________________________________________________________________\n"
          ]
        }
      ],
      "source": [
        "model.summary()"
      ]
    },
    {
      "cell_type": "code",
      "execution_count": 29,
      "metadata": {
        "colab": {
          "base_uri": "https://localhost:8080/"
        },
        "id": "YyODE0JEr0ss",
        "outputId": "c2f9fee7-7e14-4cb1-bada-ec664201d946"
      },
      "outputs": [
        {
          "output_type": "stream",
          "name": "stderr",
          "text": [
            "WARNING:absl:`lr` is deprecated, please use `learning_rate` instead, or use the legacy optimizer, e.g.,tf.keras.optimizers.legacy.Adam.\n"
          ]
        }
      ],
      "source": [
        "model.compile(optimizer = tf.optimizers.experimental.Adam(lr=1e-4),\n",
        "              loss = 'categorical_crossentropy',\n",
        "              metrics = ['accuracy'])"
      ]
    },
    {
      "cell_type": "code",
      "execution_count": 12,
      "metadata": {
        "id": "m5q2bAQer1qW"
      },
      "outputs": [],
      "source": [
        "class myCallback(tf.keras.callbacks.Callback):\n",
        "  def on_epoch_end(self, epoch, logs={}):\n",
        "    if(logs.get('accuracy')>0.92):\n",
        "      print(\"\\nAkurasi telah mencapai > 92%\")\n",
        "      self.model.stop_training = True\n",
        "callbacks = myCallback()"
      ]
    },
    {
      "cell_type": "code",
      "execution_count": 30,
      "metadata": {
        "colab": {
          "base_uri": "https://localhost:8080/"
        },
        "id": "PBd1bdTGr2o4",
        "outputId": "0c38ccd2-8441-4a67-b183-da2a85a7d86d"
      },
      "outputs": [
        {
          "output_type": "stream",
          "name": "stdout",
          "text": [
            "Epoch 1/50\n",
            "29/29 - 106s - loss: 1.1494 - accuracy: 0.4271 - val_loss: 0.8771 - val_accuracy: 0.5578 - 106s/epoch - 4s/step\n",
            "Epoch 2/50\n",
            "29/29 - 77s - loss: 0.8417 - accuracy: 0.5857 - val_loss: 0.7726 - val_accuracy: 0.6484 - 77s/epoch - 3s/step\n",
            "Epoch 3/50\n",
            "29/29 - 77s - loss: 0.6622 - accuracy: 0.7330 - val_loss: 0.4177 - val_accuracy: 0.8313 - 77s/epoch - 3s/step\n",
            "Epoch 4/50\n",
            "29/29 - 78s - loss: 0.4571 - accuracy: 0.8286 - val_loss: 0.3943 - val_accuracy: 0.8547 - 78s/epoch - 3s/step\n",
            "Epoch 5/50\n",
            "29/29 - 76s - loss: 0.3545 - accuracy: 0.8670 - val_loss: 0.3383 - val_accuracy: 0.8703 - 76s/epoch - 3s/step\n",
            "Epoch 6/50\n",
            "29/29 - 76s - loss: 0.4881 - accuracy: 0.8161 - val_loss: 0.3804 - val_accuracy: 0.8578 - 76s/epoch - 3s/step\n",
            "Epoch 7/50\n",
            "29/29 - 76s - loss: 0.3687 - accuracy: 0.8666 - val_loss: 0.3160 - val_accuracy: 0.8984 - 76s/epoch - 3s/step\n",
            "Epoch 8/50\n",
            "29/29 - 76s - loss: 0.2712 - accuracy: 0.9051 - val_loss: 0.1852 - val_accuracy: 0.9312 - 76s/epoch - 3s/step\n",
            "Epoch 9/50\n",
            "29/29 - 77s - loss: 0.2317 - accuracy: 0.9181 - val_loss: 0.1994 - val_accuracy: 0.9312 - 77s/epoch - 3s/step\n",
            "Epoch 10/50\n",
            "\n",
            "Akurasi telah mencapai > 92%\n",
            "29/29 - 78s - loss: 0.2075 - accuracy: 0.9242 - val_loss: 0.1543 - val_accuracy: 0.9469 - 78s/epoch - 3s/step\n"
          ]
        }
      ],
      "source": [
        "history = model.fit(train_generator, validation_data = validation_generator, epochs = 50, \n",
        "                    validation_steps = 5,callbacks=[callbacks], verbose = 2)"
      ]
    },
    {
      "cell_type": "code",
      "source": [
        "plt.plot(history.history['accuracy'])\n",
        "plt.plot(history.history['val_accuracy'])\n",
        "plt.title('Model Accuracy')\n",
        "plt.ylabel('accuracy')\n",
        "plt.xlabel('epoch')\n",
        "plt.legend(['train', 'test'], loc='upper left')\n",
        "plt.show()"
      ],
      "metadata": {
        "colab": {
          "base_uri": "https://localhost:8080/",
          "height": 295
        },
        "id": "ZJ9VfpZWtXrF",
        "outputId": "78a1f552-62b6-4b20-ecff-e17947fbca95"
      },
      "execution_count": 31,
      "outputs": [
        {
          "output_type": "display_data",
          "data": {
            "text/plain": [
              "<Figure size 432x288 with 1 Axes>"
            ],
            "image/png": "[encoded data removed]"
          },
          "metadata": {
            "needs_background": "light"
          }
        }
      ]
    },
    {
      "cell_type": "code",
      "source": [
        "plt.plot(history.history['loss'])\n",
        "plt.plot(history.history['val_loss'])\n",
        "plt.title('Loss Model')\n",
        "plt.ylabel('loss')\n",
        "plt.xlabel('epoch')\n",
        "plt.legend(['train', 'test'], loc='upper left')\n",
        "plt.show()"
      ],
      "metadata": {
        "colab": {
          "base_uri": "https://localhost:8080/",
          "height": 295
        },
        "id": "fzFMCVQYzN2g",
        "outputId": "fd02875f-310f-41ee-bbd5-49a9f336f2f1"
      },
      "execution_count": 32,
      "outputs": [
        {
          "output_type": "display_data",
          "data": {
            "text/plain": [
              "<Figure size 432x288 with 1 Axes>"
            ],
            "image/png": "[encoded data removed]"
          },
          "metadata": {
            "needs_background": "light"
          }
        }
      ]
    },
    {
      "cell_type": "code",
      "source": [
        "import pathlib\n",
        "\n",
        "export_dir = 'saved_model/'\n",
        "tf.saved_model.save(model, export_dir)\n",
        " \n",
        "converter = tf.lite.TFLiteConverter.from_saved_model(export_dir)\n",
        "tflite_model = converter.convert()\n",
        " \n",
        "tflite_model_file = pathlib.Path('vegs.tflite')\n",
        "tflite_model_file.write_bytes(tflite_model)"
      ],
      "metadata": {
        "colab": {
          "base_uri": "https://localhost:8080/"
        },
        "id": "mUB6ue_DzPYH",
        "outputId": "07767a20-befe-4b20-8918-f2d7a0a224b7"
      },
      "execution_count": 34,
      "outputs": [
        {
          "output_type": "stream",
          "name": "stderr",
          "text": [
            "WARNING:absl:Found untraced functions such as _jit_compiled_convolution_op, _jit_compiled_convolution_op, _jit_compiled_convolution_op, _jit_compiled_convolution_op, _jit_compiled_convolution_op while saving (showing 5 of 14). These functions will not be directly callable after loading.\n"
          ]
        },
        {
          "output_type": "execute_result",
          "data": {
            "text/plain": [
              "60711908"
            ]
          },
          "metadata": {},
          "execution_count": 34
        }
      ]
    },
    {
      "cell_type": "code",
      "source": [],
      "metadata": {
        "id": "b8VwDhHxzebo"
      },
      "execution_count": null,
      "outputs": []
    }
  ],
  "metadata": {
    "accelerator": "GPU",
    "colab": {
      "provenance": [],
      "authorship_tag": "ABX9TyM+SpTZ0VFNFp1VYoQNYxg/",
      "include_colab_link": true
    },
    "gpuClass": "standard",
    "kernelspec": {
      "display_name": "Python 3",
      "name": "python3"
    },
    "language_info": {
      "name": "python"
    }
  },
  "nbformat": 4,
  "nbformat_minor": 0
}